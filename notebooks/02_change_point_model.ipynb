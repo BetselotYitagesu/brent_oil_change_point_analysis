{
 "cells": [
  {
   "cell_type": "markdown",
   "id": "4c1644fc",
   "metadata": {},
   "source": [
    "## 1. Setup and Data Preparation\n",
    "\n",
    "We begin by importing the necessary packages and preparing the Brent oil price data. The log return series is used instead of raw prices, as it tends to be stationary and better captures structural shifts."
   ]
  },
  {
   "cell_type": "code",
   "execution_count": 6,
   "id": "39d1308d",
   "metadata": {},
   "outputs": [],
   "source": [
    "import pandas as pd\n",
    "import numpy as np\n",
    "import pymc as pm\n",
    "import arviz as az\n",
    "import matplotlib.pyplot as plt\n",
    "import seaborn as sns\n",
    "\n",
    "# Load cleaned dataset\n",
    "df = pd.read_csv(\"../data/brent_prices_cleaned.csv\", parse_dates=[\"Date\"], index_col=\"Date\")\n",
    "df['log_return'] = np.log(df['Price'] / df['Price'].shift(1))\n",
    "df = df.dropna()\n",
    "returns = df['log_return'].values\n",
    "n = len(returns)\n"
   ]
  },
  {
   "cell_type": "markdown",
   "id": "a286e9cc",
   "metadata": {},
   "source": [
    "## 2. Bayesian Change Point Model in PyMC3\n",
    "\n",
    "We implement a basic Bayesian model with a single change point in the mean. The variance is assumed constant for simplicity. The change point (`tau`) is modeled as a discrete uniform prior, while the means before and after (`mu_1`, `mu_2`) are drawn from normal priors."
   ]
  },
  {
   "cell_type": "code",
   "execution_count": null,
   "id": "19323484",
   "metadata": {},
   "outputs": [
    {
     "name": "stderr",
     "output_type": "stream",
     "text": [
      "Multiprocess sampling (2 chains in 2 jobs)\n",
      "CompoundStep\n",
      ">Metropolis: [tau]\n",
      ">NUTS: [mu_1, mu_2, sigma]\n"
     ]
    },
    {
     "data": {
      "application/vnd.jupyter.widget-view+json": {
       "model_id": "a140e7b0aeaa461bbbb2fbb37b9652d5",
       "version_major": 2,
       "version_minor": 0
      },
      "text/plain": [
       "Output()"
      ]
     },
     "metadata": {},
     "output_type": "display_data"
    }
   ],
   "source": [
    "with pm.Model() as model:\n",
    "    # Priors\n",
    "    tau = pm.DiscreteUniform('tau', lower=0, upper=n)\n",
    "\n",
    "    mu_1 = pm.Normal('mu_1', mu=0, sigma=1)\n",
    "    mu_2 = pm.Normal('mu_2', mu=0, sigma=1)\n",
    "    sigma = pm.HalfNormal('sigma', sigma=1)\n",
    "\n",
    "    # Switch mean based on time index\n",
    "    mu = pm.math.switch(tau >= np.arange(n), mu_1, mu_2)\n",
    "\n",
    "    # Likelihood\n",
    "    obs = pm.Normal('obs', mu=mu, sigma=sigma, observed=returns)\n",
    "\n",
    "    # MCMC Sampling\n",
    "    trace = pm.sample(2000, tune=1000, target_accept=0.95, return_inferencedata=True)\n"
   ]
  },
  {
   "cell_type": "markdown",
   "id": "2651e48a",
   "metadata": {},
   "source": [
    "## 3. Posterior Diagnostics\n",
    "\n",
    "We check convergence using ArviZ summaries and trace plots. The `r_hat` value should be close to 1.0, and the posterior of the change point (`tau`) should be tightly concentrated if a shift exists."
   ]
  },
  {
   "cell_type": "code",
   "execution_count": null,
   "id": "b59c0786",
   "metadata": {},
   "outputs": [],
   "source": [
    "az.summary(trace, var_names=[\"tau\", \"mu_1\", \"mu_2\", \"sigma\"])\n",
    "az.plot_trace(trace, var_names=[\"tau\", \"mu_1\", \"mu_2\"])"
   ]
  },
  {
   "cell_type": "markdown",
   "id": "1ea8c4ad",
   "metadata": {},
   "source": [
    "## 4. Change Point Estimation\n",
    "\n",
    "We extract the most probable index of the change point (`tau`) and convert it into a calendar date."
   ]
  },
  {
   "cell_type": "code",
   "execution_count": null,
   "id": "d5f95d6b",
   "metadata": {},
   "outputs": [],
   "source": [
    "# Most probable change point\n",
    "tau_samples = trace.posterior['tau'].values.flatten()\n",
    "tau_mean_idx = int(np.round(np.mean(tau_samples)))\n",
    "change_date = df.index[tau_mean_idx]\n",
    "\n",
    "print(f\"Estimated change point date: {change_date.date()}\")"
   ]
  },
  {
   "cell_type": "markdown",
   "id": "899cc1ad",
   "metadata": {},
   "source": [
    "## 5. Quantifying Impact\n",
    "\n",
    "We calculate the posterior means before and after the detected change point to understand the shift in return behavior."
   ]
  },
  {
   "cell_type": "code",
   "execution_count": null,
   "id": "bbd1f538",
   "metadata": {},
   "outputs": [],
   "source": [
    "mu_1_mean = trace.posterior['mu_1'].mean().item()\n",
    "mu_2_mean = trace.posterior['mu_2'].mean().item()\n",
    "\n",
    "print(f\"Mean return before change: {mu_1_mean:.4f}\")\n",
    "print(f\"Mean return after change:  {mu_2_mean:.4f}\")\n",
    "print(f\"Change magnitude: {((mu_2_mean - mu_1_mean) / abs(mu_1_mean)) * 100:.2f}%\")"
   ]
  },
  {
   "cell_type": "markdown",
   "id": "f0449468",
   "metadata": {},
   "source": [
    "## 6. Associating Change with Historical Event\n",
    "\n",
    "We compare the detected change date with the timeline of major geopolitical or economic events to identify the most plausible cause."
   ]
  },
  {
   "cell_type": "code",
   "execution_count": null,
   "id": "41aa0d6a",
   "metadata": {},
   "outputs": [],
   "source": [
    "events = pd.read_csv(\"data/key_events.csv\", parse_dates=[\"start_date\"])\n",
    "events['days_diff'] = abs(events['start_date'] - change_date)\n",
    "events.sort_values(\"days_diff\").head(3)"
   ]
  },
  {
   "cell_type": "markdown",
   "id": "d4bbff36",
   "metadata": {},
   "source": [
    "## 7. Visualizing the Change Point\n",
    "\n",
    "To support interpretation, we overlay the change point on the log returns time series."
   ]
  },
  {
   "cell_type": "code",
   "execution_count": null,
   "id": "bb02bcf2",
   "metadata": {},
   "outputs": [],
   "source": [
    "plt.figure(figsize=(12, 5))\n",
    "plt.plot(df['log_return'], label='Log Returns')\n",
    "plt.axvline(change_date, color='red', linestyle='--', label='Detected Change Point')\n",
    "plt.title('Log Returns with Detected Change Point')\n",
    "plt.legend()\n",
    "plt.grid(True)\n",
    "plt.tight_layout()\n",
    "plt.savefig('reports/img/change_point_detected.png')\n",
    "plt.show()\n"
   ]
  }
 ],
 "metadata": {
  "kernelspec": {
   "display_name": ".venv (3.13.3)",
   "language": "python",
   "name": "python3"
  },
  "language_info": {
   "codemirror_mode": {
    "name": "ipython",
    "version": 3
   },
   "file_extension": ".py",
   "mimetype": "text/x-python",
   "name": "python",
   "nbconvert_exporter": "python",
   "pygments_lexer": "ipython3",
   "version": "3.13.3"
  }
 },
 "nbformat": 4,
 "nbformat_minor": 5
}
